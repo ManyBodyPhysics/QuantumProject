{
 "cells": [
  {
   "cell_type": "markdown",
   "id": "a97ea593",
   "metadata": {},
   "source": [
    "<!-- HTML file automatically generated from DocOnce source (https://github.com/doconce/doconce/)\n",
    "doconce format html model.do.txt  -->"
   ]
  },
  {
   "cell_type": "markdown",
   "id": "145284b6",
   "metadata": {},
   "source": [
    "## Level crossing and entanglement in a simple  solvable model\n",
    "\n",
    "Add discussion about entanglement and expand model to include 4 x 4 matrix\n",
    "\n",
    "In order to study the importance of intruder states, we let\n",
    "our hamiltonian depend linearly on a strength parameter $z$"
   ]
  },
  {
   "cell_type": "markdown",
   "id": "c02ee789",
   "metadata": {},
   "source": [
    "$$\n",
    "H=H_0+z H_1,\n",
    "$$"
   ]
  },
  {
   "cell_type": "markdown",
   "id": "949cf374",
   "metadata": {},
   "source": [
    "with $z \\in [0,1]$, where the limits $z=0$ and $z=1$ represent the \n",
    "non-interacting (or unperturbed) and fully interacting system, respectively.\n",
    "The model is an eigenvalue\n",
    "problem with only two available states, which we label\n",
    "$P$ and $Q$. Below we will let \n",
    "state $P$ represent the model-space\n",
    "eigenvalue whereas state $Q$ represents \n",
    "the eigenvalue of the excluded space.\n",
    "The unperturbed solutions to this problem are"
   ]
  },
  {
   "cell_type": "markdown",
   "id": "4adbffd6",
   "metadata": {},
   "source": [
    "<!-- Equation labels as ordinary links -->\n",
    "<div id=\"_auto1\"></div>\n",
    "\n",
    "$$\n",
    "\\begin{equation}\n",
    "       H_0\\Phi_P =\\epsilon_P\\Phi_P\n",
    "\\label{_auto1} \\tag{1}\n",
    "\\end{equation}\n",
    "$$"
   ]
  },
  {
   "cell_type": "markdown",
   "id": "23855b72",
   "metadata": {},
   "source": [
    "and"
   ]
  },
  {
   "cell_type": "markdown",
   "id": "f0db4d4a",
   "metadata": {},
   "source": [
    "<!-- Equation labels as ordinary links -->\n",
    "<div id=\"_auto2\"></div>\n",
    "\n",
    "$$\n",
    "\\begin{equation}\n",
    "       H_0\\Phi_Q =\\epsilon_Q\\Phi_Q,\n",
    "\\label{_auto2} \\tag{2}\n",
    "\\end{equation}\n",
    "$$"
   ]
  },
  {
   "cell_type": "markdown",
   "id": "7f8afa8c",
   "metadata": {},
   "source": [
    "with $\\epsilon_P < \\epsilon_Q$. We label the off-diagonal\n",
    "matrix elements $X$, while $X_P=\\bra{\\Phi_P}H_1\\ket{\\Phi_P}$ and\n",
    "$X_Q=\\bra{\\Phi_Q}H_1\\ket{\\Phi_Q}$.\n",
    "The exact eigenvalues problem"
   ]
  },
  {
   "cell_type": "markdown",
   "id": "056dd28f",
   "metadata": {},
   "source": [
    "<!-- Equation labels as ordinary links -->\n",
    "<div id=\"_auto3\"></div>\n",
    "\n",
    "$$\n",
    "\\begin{equation}\n",
    "\\left(\\begin{array}{cc}\\epsilon_P+z X_P &zX \\\\\n",
    "zX &\\epsilon_Q+z X_Q \\end{array}\\right)\n",
    "\\label{_auto3} \\tag{3}\n",
    "\\end{equation}\n",
    "$$"
   ]
  },
  {
   "cell_type": "markdown",
   "id": "60b73194",
   "metadata": {},
   "source": [
    "yields"
   ]
  },
  {
   "cell_type": "markdown",
   "id": "625e44ec",
   "metadata": {},
   "source": [
    "<!-- Equation labels as ordinary links -->\n",
    "<div id=\"eq:exact\"></div>\n",
    "\n",
    "$$\n",
    "\\begin{eqnarray}\n",
    "\\label{eq:exact} \\tag{4}\n",
    "     E(z)=&\\frac{1}{2}\\left\\{\\epsilon_P +\\epsilon_Q +zX_P\n",
    "     +zX_Q \\pm \\left(\n",
    "     \\epsilon_Q -\\epsilon_P +zX_Q-zX_P\\right) \\right. \\\\ \\nonumber\n",
    "     & \\left. \\times\\sqrt{1+\\frac{4z^2X^2}{\\left(\n",
    "     \\epsilon_Q -\\epsilon_P +zX_Q-zX_P\\right)^2}}\n",
    "     \\right\\}.\n",
    "\\end{eqnarray}\n",
    "$$"
   ]
  },
  {
   "cell_type": "markdown",
   "id": "8d608cfb",
   "metadata": {},
   "source": [
    "An RS expansion for the lowest\n",
    "eigenstate (defining states $P$ and $Q$ as the model and excluded\n",
    "spaces, respectively) can be obtained by expanding the lowest\n",
    "eigenvalue as"
   ]
  },
  {
   "cell_type": "markdown",
   "id": "f5a9548d",
   "metadata": {},
   "source": [
    "<!-- Equation labels as ordinary links -->\n",
    "<div id=\"eq:modela\"></div>\n",
    "\n",
    "$$\n",
    "\\begin{equation}\n",
    "      E=\\epsilon_P +zX_P+\\frac{z^2X^2}{\\epsilon_P -\\epsilon_Q}+\n",
    "      \\frac{z^3X^2(X_Q-X_P)}{(\\epsilon_P -\\epsilon_Q)^2}+\n",
    "      \\frac{z^4X^2(X_Q-X_P)^2}{(\\epsilon_P -\\epsilon_Q)^3}\n",
    "      -\\frac{z^4X^4}{(\\epsilon_P -\\epsilon_Q)^3}+\\dots,\n",
    "      \\label{eq:modela} \\tag{5}\n",
    "\\end{equation}\n",
    "$$"
   ]
  },
  {
   "cell_type": "markdown",
   "id": "fdb70503",
   "metadata": {},
   "source": [
    "which can be viewed as an effective interaction for state $P$ in which\n",
    "state $Q$ is taken into account to successive orders of the perturbation.\n",
    "In this work we choose the parameters $\\epsilon_P=0$, $\\epsilon_Q=4$,\n",
    "$X_P=-X_Q=3$ and $X=0.2$. The exact solutions\n",
    "given by eq.\\ ([4](#eq:exact))\n",
    "are shown in fig.\\ 1 as functions of the\n",
    "strength parameter $z$. Pertinent to our choice of\n",
    "parameters, is that at $z\\geq 2/3$,  the lowest eigenstate is\n",
    "dominated by $\\Phi_Q$ while the upper is $\\Phi_P$. At $z=1$ the\n",
    "$\\Phi_P$ mixing of the lowest eigenvalue\n",
    "is $1\\%$ while for $z\\leq 2/3$\n",
    "we have a $\\Phi_P$ component of more than $90\\%$.\n",
    "The character of the eigenvectors has therefore been interchanged\n",
    "when passing $z=2/3$. The value of the parameter $X$ represents the\n",
    "strength of the coupling between the model space and the excluded space.\n",
    "Thus, this simple Hamiltonian can be used to find the eigenpairs rather easily. The following code computes and plots the eigenvalues. Note that here we permute the eigenvalues as functions of"
   ]
  },
  {
   "cell_type": "code",
   "execution_count": 68,
   "id": "1a8c9277",
   "metadata": {},
   "outputs": [
    {
     "data": {
      "image/png": "[encoded data removed]",
      "text/plain": [
       "<Figure size 432x288 with 1 Axes>"
      ]
     },
     "metadata": {
      "needs_background": "light"
     },
     "output_type": "display_data"
    }
   ],
   "source": [
    "%matplotlib inline\n",
    "\n",
    "%matplotlib inline\n",
    "\n",
    "from  matplotlib import pyplot as plt\n",
    "import numpy as np\n",
    "dim = 2\n",
    "#Setting up a tridiagonal matrix and finding eigenvectors and eigenvalues\n",
    "Hamiltonian = np.zeros((dim,dim))\n",
    "#number of lambda values\n",
    "n = 100\n",
    "lmbd = np.linspace(0.,1.0,n)\n",
    "e0 = 0.0\n",
    "e1 = 4.0\n",
    "X = 0.20\n",
    "Xp = 3.0\n",
    "Eigenvalue = np.zeros((dim,n))\n",
    "for i in range(n): \n",
    "    Hamiltonian[0,0] = lmbd[i]*Xp+e0\n",
    "    Hamiltonian[0,1] = lmbd[i]*X\n",
    "    Hamiltonian[1,0] = Hamiltonian[0,1]\n",
    "    Hamiltonian[1,1] = e1+lmbd[i]*(-Xp)\n",
    "    # diagonalize and obtain eigenvalues, not necessarily sorted\n",
    "    EigValues, EigVectors = np.linalg.eig(Hamiltonian)\n",
    "    # sort eigenvectors and eigenvalues\n",
    "    permute = EigValues.argsort()\n",
    "    EigValues = EigValues[permute]\n",
    "    EigVectors = EigVectors[:,permute]\n",
    "    Eigenvalue[0,i] = EigValues[0]\n",
    "    Eigenvalue[1,i] = EigValues[1]\n",
    "plt.plot(lmbd, Eigenvalue[0,:] ,'b-',lmbd, Eigenvalue[1,:],'g-',)\n",
    "plt.xlabel('$z$')\n",
    "plt.ylabel('Eigenvalues')\n",
    "plt.show()"
   ]
  },
  {
   "cell_type": "code",
   "execution_count": 126,
   "id": "e04fbd65",
   "metadata": {},
   "outputs": [
    {
     "name": "stderr",
     "output_type": "stream",
     "text": [
      "/opt/homebrew/lib/python3.9/site-packages/scipy/linalg/_matfuncs_inv_ssq.py:827: LogmExactlySingularWarning: The logm input matrix is exactly singular.\n",
      "  warnings.warn(exact_singularity_msg, LogmExactlySingularWarning)\n"
     ]
    },
    {
     "data": {
      "image/png": "[encoded data removed]",
      "text/plain": [
       "<Figure size 432x288 with 1 Axes>"
      ]
     },
     "metadata": {
      "needs_background": "light"
     },
     "output_type": "display_data"
    },
    {
     "data": {
      "text/plain": [
       "<function matplotlib.pyplot.show(close=None, block=None)>"
      ]
     },
     "execution_count": 126,
     "metadata": {},
     "output_type": "execute_result"
    },
    {
     "data": {
      "image/png": "[encoded data removed]",
      "text/plain": [
       "<Figure size 432x288 with 1 Axes>"
      ]
     },
     "metadata": {
      "needs_background": "light"
     },
     "output_type": "display_data"
    }
   ],
   "source": [
    "%matplotlib inline\n",
    "from  matplotlib import pyplot as plt\n",
    "import numpy as np\n",
    "from scipy.linalg import logm, expm\n",
    "def log2M(a): # base 2 matrix logarithm\n",
    "    return logm(a)/np.log(2.0)\n",
    "\n",
    "dim = 4\n",
    "Hamiltonian = np.zeros((dim,dim))\n",
    "#number of lambda values\n",
    "n = 40\n",
    "lmbd = np.linspace(0.0,1.0,n)\n",
    "X = 2.0\n",
    "Xp = 3.0\n",
    "# Non-diagonal part as sigma_x tensor product with sigma_x\n",
    "sx = np.matrix([[0,1],[1,0]])\n",
    "# Diagonal part as sigma_z tensor product with sigma_z\n",
    "sz = np.matrix([[1,0],[0,-1]])\n",
    "sx2 = X*np.kron(sx, sx)\n",
    "sz2 = Xp*np.kron(sz, sz)\n",
    "noninteracting = [0.0, 2.5, 6.5, 7.0]\n",
    "D = np.diag(noninteracting)\n",
    "Eigenvalue = np.zeros((dim,n))\n",
    "Entropy = np.zeros(n)\n",
    "\n",
    "for i in range(n): \n",
    "    Hamiltonian = lmbd[i]*(sx2+sz2)+D\n",
    "    # diagonalize and obtain eigenvalues, not necessarily sorted\n",
    "    EigValues, EigVectors = np.linalg.eig(Hamiltonian)\n",
    "    # sort eigenvectors and eigenvalues\n",
    "    permute = EigValues.argsort()\n",
    "    EigValues = EigValues[permute]\n",
    "    EigVectors = EigVectors[:,permute]\n",
    "    DensityMatrix = np.zeros((dim,dim))\n",
    "    # Set up density matrix for lowest-lying state\n",
    "    DensityMatrix = np.outer(EigVectors[:,0],EigVectors[:,0])\n",
    "    # Project down on substates and find density matrix for subsystem\n",
    "    d = np.matrix([[1,0],[0,1]])\n",
    "    v1 = [1.0,0.0]\n",
    "    proj1 = np.kron(v1,d)\n",
    "    x1 = proj1 @ DensityMatrix @ proj1.T\n",
    "    v2 = [0.0,1.0]\n",
    "    proj2 = np.kron(v2,d)\n",
    "    x2 = proj2 @ DensityMatrix @ proj2.T\n",
    "    # Total density matrix for subsystem\n",
    "    total = x1+x2\n",
    "    # Entropy\n",
    "    Entropy[i] = -np.matrix.trace(total @ log2M(total))\n",
    "\n",
    "    Eigenvalue[0,i] = EigValues[0]\n",
    "    Eigenvalue[1,i] = EigValues[1]\n",
    "    Eigenvalue[2,i] = EigValues[2]\n",
    "    Eigenvalue[3,i] = EigValues[3]\n",
    "plt.plot(lmbd, Eigenvalue[0,:] ,'b-',lmbd, Eigenvalue[1,:],'g-',)\n",
    "plt.plot(lmbd, Eigenvalue[2,:] ,'r-',lmbd, Eigenvalue[3,:],'y-',)\n",
    "plt.xlabel('$\\lambda$')\n",
    "plt.ylabel('Eigenvalues')\n",
    "plt.show()\n",
    "plt.plot(lmbd, Entropy)\n",
    "plt.xlabel('$\\lambda$')\n",
    "plt.ylabel('Entropy')          \n",
    "plt.show"
   ]
  },
  {
   "cell_type": "code",
   "execution_count": 80,
   "id": "c9b05a08",
   "metadata": {},
   "outputs": [
    {
     "name": "stdout",
     "output_type": "stream",
     "text": [
      "[[0.5 0.  0.  0.5]\n",
      " [0.  0.  0.  0. ]\n",
      " [0.  0.  0.  0. ]\n",
      " [0.5 0.  0.  0.5]]\n",
      "[[1.]]\n"
     ]
    }
   ],
   "source": [
    "\n"
   ]
  },
  {
   "cell_type": "code",
   "execution_count": 42,
   "id": "66b0ec26",
   "metadata": {},
   "outputs": [
    {
     "name": "stdout",
     "output_type": "stream",
     "text": [
      "[[-1.02571087  2.05142174]\n",
      " [ 0.68380725  1.02571087]]\n"
     ]
    }
   ],
   "source": []
  },
  {
   "cell_type": "code",
   "execution_count": 47,
   "id": "10a1ea55",
   "metadata": {},
   "outputs": [
    {
     "name": "stdout",
     "output_type": "stream",
     "text": [
      "[[ 0.82533561 -0.56464247]\n",
      " [ 0.56464247  0.82533561]]\n",
      "[[-5.83166731e-16 -8.65617025e-01]\n",
      " [ 8.65617025e-01  1.82738418e-16]]\n"
     ]
    }
   ],
   "source": []
  },
  {
   "cell_type": "code",
   "execution_count": null,
   "id": "56f0546d",
   "metadata": {},
   "outputs": [],
   "source": []
  }
 ],
 "metadata": {
  "kernelspec": {
   "display_name": "Python 3 (ipykernel)",
   "language": "python",
   "name": "python3"
  },
  "language_info": {
   "codemirror_mode": {
    "name": "ipython",
    "version": 3
   },
   "file_extension": ".py",
   "mimetype": "text/x-python",
   "name": "python",
   "nbconvert_exporter": "python",
   "pygments_lexer": "ipython3",
   "version": "3.9.12"
  }
 },
 "nbformat": 4,
 "nbformat_minor": 5
}
