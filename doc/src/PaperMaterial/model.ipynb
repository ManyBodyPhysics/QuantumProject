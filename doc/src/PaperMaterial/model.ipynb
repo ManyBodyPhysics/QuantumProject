{
 "cells": [
  {
   "cell_type": "markdown",
   "id": "bef9e941",
   "metadata": {},
   "source": [
    "<!-- HTML file automatically generated from DocOnce source (https://github.com/doconce/doconce/)\n",
    "doconce format html model.do.txt  -->"
   ]
  },
  {
   "cell_type": "markdown",
   "id": "70b6444c",
   "metadata": {},
   "source": [
    "## Level crossing and entanglement in a simple  solvable model\n",
    "\n",
    "Add discussion about entanglement and expand model to include 4 x 4 matrix\n",
    "\n",
    "In order to study the importance of intruder states, we let\n",
    "our hamiltonian depend linearly on a strength parameter $z$"
   ]
  },
  {
   "cell_type": "markdown",
   "id": "d8a568f7",
   "metadata": {},
   "source": [
    "$$\n",
    "H=H_0+z H_1,\n",
    "$$"
   ]
  },
  {
   "cell_type": "markdown",
   "id": "2e8c64d6",
   "metadata": {},
   "source": [
    "with $z \\in [0,1]$, where the limits $z=0$ and $z=1$ represent the \n",
    "non-interacting (or unperturbed) and fully interacting system, respectively.\n",
    "The model is an eigenvalue\n",
    "problem with only two available states, which we label\n",
    "$P$ and $Q$. Below we will let \n",
    "state $P$ represent the model-space\n",
    "eigenvalue whereas state $Q$ represents \n",
    "the eigenvalue of the excluded space.\n",
    "The unperturbed solutions to this problem are"
   ]
  },
  {
   "cell_type": "markdown",
   "id": "64b27da5",
   "metadata": {},
   "source": [
    "<!-- Equation labels as ordinary links -->\n",
    "<div id=\"_auto1\"></div>\n",
    "\n",
    "$$\n",
    "\\begin{equation}\n",
    "       H_0\\Phi_P =\\epsilon_P\\Phi_P\n",
    "\\label{_auto1} \\tag{1}\n",
    "\\end{equation}\n",
    "$$"
   ]
  },
  {
   "cell_type": "markdown",
   "id": "6178f961",
   "metadata": {},
   "source": [
    "and"
   ]
  },
  {
   "cell_type": "markdown",
   "id": "ac20980c",
   "metadata": {},
   "source": [
    "<!-- Equation labels as ordinary links -->\n",
    "<div id=\"_auto2\"></div>\n",
    "\n",
    "$$\n",
    "\\begin{equation}\n",
    "       H_0\\Phi_Q =\\epsilon_Q\\Phi_Q,\n",
    "\\label{_auto2} \\tag{2}\n",
    "\\end{equation}\n",
    "$$"
   ]
  },
  {
   "cell_type": "markdown",
   "id": "df283fd9",
   "metadata": {},
   "source": [
    "with $\\epsilon_P < \\epsilon_Q$. We label the off-diagonal\n",
    "matrix elements $X$, while $X_P=\\bra{\\Phi_P}H_1\\ket{\\Phi_P}$ and\n",
    "$X_Q=\\bra{\\Phi_Q}H_1\\ket{\\Phi_Q}$.\n",
    "The exact eigenvalues problem"
   ]
  },
  {
   "cell_type": "markdown",
   "id": "44d52b7c",
   "metadata": {},
   "source": [
    "<!-- Equation labels as ordinary links -->\n",
    "<div id=\"_auto3\"></div>\n",
    "\n",
    "$$\n",
    "\\begin{equation}\n",
    "\\left(\\begin{array}{cc}\\epsilon_P+z X_P &zX \\\\\n",
    "zX &\\epsilon_Q+z X_Q \\end{array}\\right)\n",
    "\\label{_auto3} \\tag{3}\n",
    "\\end{equation}\n",
    "$$"
   ]
  },
  {
   "cell_type": "markdown",
   "id": "0a612338",
   "metadata": {},
   "source": [
    "yields"
   ]
  },
  {
   "cell_type": "markdown",
   "id": "a203d1d8",
   "metadata": {},
   "source": [
    "<!-- Equation labels as ordinary links -->\n",
    "<div id=\"eq:exact\"></div>\n",
    "\n",
    "$$\n",
    "\\begin{eqnarray}\n",
    "\\label{eq:exact} \\tag{4}\n",
    "     E(z)=&\\frac{1}{2}\\left\\{\\epsilon_P +\\epsilon_Q +zX_P\n",
    "     +zX_Q \\pm \\left(\n",
    "     \\epsilon_Q -\\epsilon_P +zX_Q-zX_P\\right) \\right. \\\\ \\nonumber\n",
    "     & \\left. \\times\\sqrt{1+\\frac{4z^2X^2}{\\left(\n",
    "     \\epsilon_Q -\\epsilon_P +zX_Q-zX_P\\right)^2}}\n",
    "     \\right\\}.\n",
    "\\end{eqnarray}\n",
    "$$"
   ]
  },
  {
   "cell_type": "markdown",
   "id": "1501b4da",
   "metadata": {},
   "source": [
    "An RS expansion for the lowest\n",
    "eigenstate (defining states $P$ and $Q$ as the model and excluded\n",
    "spaces, respectively) can be obtained by expanding the lowest\n",
    "eigenvalue as"
   ]
  },
  {
   "cell_type": "markdown",
   "id": "88445d09",
   "metadata": {},
   "source": [
    "<!-- Equation labels as ordinary links -->\n",
    "<div id=\"eq:modela\"></div>\n",
    "\n",
    "$$\n",
    "\\begin{equation}\n",
    "      E=\\epsilon_P +zX_P+\\frac{z^2X^2}{\\epsilon_P -\\epsilon_Q}+\n",
    "      \\frac{z^3X^2(X_Q-X_P)}{(\\epsilon_P -\\epsilon_Q)^2}+\n",
    "      \\frac{z^4X^2(X_Q-X_P)^2}{(\\epsilon_P -\\epsilon_Q)^3}\n",
    "      -\\frac{z^4X^4}{(\\epsilon_P -\\epsilon_Q)^3}+\\dots,\n",
    "      \\label{eq:modela} \\tag{5}\n",
    "\\end{equation}\n",
    "$$"
   ]
  },
  {
   "cell_type": "markdown",
   "id": "2509fd92",
   "metadata": {},
   "source": [
    "which can be viewed as an effective interaction for state $P$ in which\n",
    "state $Q$ is taken into account to successive orders of the perturbation.\n",
    "In this work we choose the parameters $\\epsilon_P=0$, $\\epsilon_Q=4$,\n",
    "$X_P=-X_Q=3$ and $X=0.2$. The exact solutions\n",
    "given by eq.\\ ([4](#eq:exact))\n",
    "are shown in fig.\\ 1 as functions of the\n",
    "strength parameter $z$. Pertinent to our choice of\n",
    "parameters, is that at $z\\geq 2/3$,  the lowest eigenstate is\n",
    "dominated by $\\Phi_Q$ while the upper is $\\Phi_P$. At $z=1$ the\n",
    "$\\Phi_P$ mixing of the lowest eigenvalue\n",
    "is $1\\%$ while for $z\\leq 2/3$\n",
    "we have a $\\Phi_P$ component of more than $90\\%$.\n",
    "The character of the eigenvectors has therefore been interchanged\n",
    "when passing $z=2/3$. The value of the parameter $X$ represents the\n",
    "strength of the coupling between the model space and the excluded space.\n",
    "Thus, this simple Hamiltonian can be used to find the eigenpairs rather easily. The following code computes and plots the eigenvalues. Note that here we permute the eigenvalues as functions of"
   ]
  },
  {
   "cell_type": "code",
   "execution_count": 1,
   "id": "2da4c89a",
   "metadata": {},
   "outputs": [
    {
     "data": {
      "image/png": "[encoded data removed]",
      "text/plain": [
       "<Figure size 432x288 with 1 Axes>"
      ]
     },
     "metadata": {
      "needs_background": "light"
     },
     "output_type": "display_data"
    }
   ],
   "source": [
    "%matplotlib inline\n",
    "\n",
    "from  matplotlib import pyplot as plt\n",
    "import numpy as np\n",
    "dim = 2\n",
    "Hamiltonian = np.zeros((dim,dim))\n",
    "#number of lambda values\n",
    "n = 100\n",
    "lmbd = np.linspace(0.,1.0,n)\n",
    "e0 = 0.0\n",
    "e1 = 4.0\n",
    "X = 0.20\n",
    "Xp = 3.0\n",
    "Eigenvalue = np.zeros((dim,n))\n",
    "for i in range(n): \n",
    "    Hamiltonian[0,0] = lmbd[i]*Xp+e0\n",
    "    Hamiltonian[0,1] = lmbd[i]*X\n",
    "    Hamiltonian[1,0] = Hamiltonian[0,1]\n",
    "    Hamiltonian[1,1] = e1+lmbd[i]*(-Xp)\n",
    "    # diagonalize and obtain eigenvalues, not necessarily sorted\n",
    "    EigValues, EigVectors = np.linalg.eig(Hamiltonian)\n",
    "    # sort eigenvectors and eigenvalues\n",
    "    permute = EigValues.argsort()\n",
    "    EigValues = EigValues[permute]\n",
    "    EigVectors = EigVectors[:,permute]\n",
    "    Eigenvalue[0,i] = EigValues[0]\n",
    "    Eigenvalue[1,i] = EigValues[1]\n",
    "plt.plot(lmbd, Eigenvalue[0,:] ,'b-',lmbd, Eigenvalue[1,:],'g-',)\n",
    "plt.xlabel('$z$')\n",
    "plt.ylabel('Eigenvalues')\n",
    "plt.show()"
   ]
  },
  {
   "cell_type": "code",
   "execution_count": 44,
   "id": "dcb2f820",
   "metadata": {},
   "outputs": [
    {
     "name": "stdout",
     "output_type": "stream",
     "text": [
      "[[0.  0.  0.  0.3]\n",
      " [0.  0.  0.3 0. ]\n",
      " [0.  0.3 0.  0. ]\n",
      " [0.3 0.  0.  0. ]]\n",
      "[[ 3.  0.  0.  0.]\n",
      " [ 0. -3.  0.  0.]\n",
      " [ 0.  0. -3.  0.]\n",
      " [ 0.  0.  0.  3.]]\n",
      "[[ 3.   0.   0.   0.3]\n",
      " [ 0.  -2.5  0.3  0. ]\n",
      " [ 0.   0.3  3.5  0. ]\n",
      " [ 0.3  0.   0.  10. ]]\n",
      "[[1. 0. 0. 0.]\n",
      " [0. 1. 0. 0.]\n",
      " [0. 0. 1. 0.]\n",
      " [0. 0. 0. 1.]]\n",
      "[[-0.99999746  0.          0.          0.00225562]\n",
      " [ 0.         -0.99999654  0.00263155  0.        ]\n",
      " [ 0.          0.00263155  0.99999654  0.        ]\n",
      " [ 0.00225562  0.          0.          0.99999746]]\n",
      "[[ 0.         -0.99998615  0.00526294  0.        ]\n",
      " [-0.99998982  0.          0.          0.00451114]\n",
      " [ 0.          0.00526294  0.99998615  0.        ]\n",
      " [ 0.00451114  0.          0.          0.99998982]]\n",
      "[[ 0.         -0.99996884  0.007894    0.        ]\n",
      " [-0.99997711  0.          0.          0.00676645]\n",
      " [ 0.          0.007894    0.99996884  0.        ]\n",
      " [ 0.00676645  0.          0.          0.99997711]]\n",
      "[[ 0.         -0.99994462  0.01052457  0.        ]\n",
      " [-0.99995931  0.          0.          0.00902145]\n",
      " [ 0.          0.01052457  0.99994462  0.        ]\n",
      " [ 0.00902145  0.          0.          0.99995931]]\n",
      "[[ 0.         -0.99991348  0.01315448  0.        ]\n",
      " [-0.99993642  0.          0.          0.01127604]\n",
      " [ 0.          0.01315448  0.99991348  0.        ]\n",
      " [ 0.01127604  0.          0.          0.99993642]]\n",
      "[[ 0.         -0.99987543  0.01578357  0.        ]\n",
      " [-0.99990846  0.          0.          0.01353012]\n",
      " [ 0.          0.01578357  0.99987543  0.        ]\n",
      " [ 0.01353012  0.          0.          0.99990846]]\n",
      "[[ 0.         -0.99983049  0.01841168  0.        ]\n",
      " [-0.99987543  0.          0.          0.01578357]\n",
      " [ 0.          0.01841168  0.99983049  0.        ]\n",
      " [ 0.01578357  0.          0.          0.99987543]]\n",
      "[[ 0.         -0.99977866  0.02103865  0.        ]\n",
      " [-0.99983733  0.          0.          0.01803631]\n",
      " [ 0.          0.02103865  0.99977866  0.        ]\n",
      " [ 0.01803631  0.          0.          0.99983733]]\n",
      "[[ 0.         -0.99971996  0.02366431  0.        ]\n",
      " [-0.99979417  0.          0.          0.02028822]\n",
      " [ 0.          0.02366431  0.99971996  0.        ]\n",
      " [ 0.02028822  0.          0.          0.99979417]]\n",
      "[[ 0.         -0.9996544   0.0262885   0.        ]\n",
      " [-0.99974596  0.          0.          0.0225392 ]\n",
      " [ 0.          0.0262885   0.9996544   0.        ]\n",
      " [ 0.0225392   0.          0.          0.99974596]]\n",
      "[[ 0.         -0.99958199  0.02891106  0.        ]\n",
      " [-0.9996927   0.          0.          0.02478915]\n",
      " [ 0.          0.02891106  0.99958199  0.        ]\n",
      " [ 0.02478915  0.          0.          0.9996927 ]]\n",
      "[[ 0.         -0.99950275  0.03153183  0.        ]\n",
      " [-0.99963441  0.          0.          0.02703798]\n",
      " [ 0.          0.03153183  0.99950275  0.        ]\n",
      " [ 0.02703798  0.          0.          0.99963441]]\n",
      "[[ 0.         -0.9994167   0.03415065  0.        ]\n",
      " [-0.99957109  0.          0.          0.02928557]\n",
      " [ 0.          0.03415065  0.9994167   0.        ]\n",
      " [ 0.02928557  0.          0.          0.99957109]]\n",
      "[[ 0.         -0.99932385  0.03676736  0.        ]\n",
      " [-0.99950275  0.          0.          0.03153183]\n",
      " [ 0.          0.03676736  0.99932385  0.        ]\n",
      " [ 0.03153183  0.          0.          0.99950275]]\n",
      "[[ 0.         -0.99922424  0.03938179  0.        ]\n",
      " [-0.99942941  0.          0.          0.03377666]\n",
      " [ 0.          0.03938179  0.99922424  0.        ]\n",
      " [ 0.03377666  0.          0.          0.99942941]]\n",
      "[[ 0.         -0.99911787  0.0419938   0.        ]\n",
      " [-0.99935107  0.          0.          0.03601995]\n",
      " [ 0.          0.0419938   0.99911787  0.        ]\n",
      " [ 0.03601995  0.          0.          0.99935107]]\n",
      "[[-1.74058690e-17  9.99004781e-01 -4.46032289e-02  2.99135419e-16]\n",
      " [ 9.99267757e-01 -3.41748601e-18 -1.19377680e-18 -3.82616086e-02]\n",
      " [-1.92401322e-34  4.46032289e-02  9.99004781e-01  2.70578357e-17]\n",
      " [ 3.82616086e-02 -7.76483679e-17 -1.36765402e-17  9.99267757e-01]]\n",
      "[[ 0.         -0.99888499  0.04720991  0.        ]\n",
      " [-0.99917948  0.          0.          0.04050153]\n",
      " [ 0.          0.04720991  0.99888499  0.        ]\n",
      " [ 0.04050153  0.          0.          0.99917948]]\n",
      "[[ 0.         -0.99875853  0.0498137   0.        ]\n",
      " [-0.99908624  0.          0.          0.04273962]\n",
      " [ 0.          0.0498137   0.99875853  0.        ]\n",
      " [ 0.04273962  0.          0.          0.99908624]]\n"
     ]
    },
    {
     "data": {
      "image/png": "[encoded data removed]",
      "text/plain": [
       "<Figure size 432x288 with 1 Axes>"
      ]
     },
     "metadata": {
      "needs_background": "light"
     },
     "output_type": "display_data"
    }
   ],
   "source": [
    "%matplotlib inline\n",
    "\n",
    "from  matplotlib import pyplot as plt\n",
    "import numpy as np\n",
    "dim = 4\n",
    "Hamiltonian = np.zeros((dim,dim))\n",
    "#number of lambda values\n",
    "n = 20\n",
    "lmbd = np.linspace(0.,1.0,n)\n",
    "X = 0.30\n",
    "Xp = 3.0\n",
    "# Non-diagonal part as sigma_x tensor product with sigma_x\n",
    "sx = np.matrix([[0,1],[1,0]])\n",
    "sz = np.matrix([[1,0],[0,-1]])\n",
    "a = X*np.kron(sx, sx)\n",
    "b = Xp*np.kron(sz, sz)\n",
    "v = [0.0, 0.5, 6.5, 7.0]\n",
    "D = np.diag(v)\n",
    "print(a)\n",
    "print(b)\n",
    "print(D+a+b)\n",
    "Eigenvalue = np.zeros((dim,n))\n",
    "for i in range(n): \n",
    "    Hamiltonian = lmbd[i]*(a+b)+D\n",
    "    # diagonalize and obtain eigenvalues, not necessarily sorted\n",
    "    EigValues, EigVectors = np.linalg.eig(Hamiltonian)\n",
    "    # sort eigenvectors and eigenvalues\n",
    "    permute = EigValues.argsort()\n",
    "    EigValues = EigValues[permute]\n",
    "    EigVectors = EigVectors[:,permute]\n",
    "    EigVectors = np.linalg.inv(EigVectors)\n",
    "    print(EigVectors)\n",
    "    Eigenvalue[0,i] = EigValues[0]\n",
    "    Eigenvalue[1,i] = EigValues[1]\n",
    "    Eigenvalue[2,i] = EigValues[2]\n",
    "    Eigenvalue[3,i] = EigValues[3]\n",
    "plt.plot(lmbd, Eigenvalue[0,:] ,'b-',lmbd, Eigenvalue[1,:],'g-',)\n",
    "plt.plot(lmbd, Eigenvalue[2,:] ,'r-',lmbd, Eigenvalue[3,:],'y-',)\n",
    "plt.xlabel('$\\lambda$')\n",
    "plt.ylabel('Eigenvalues')\n",
    "plt.show()"
   ]
  },
  {
   "cell_type": "code",
   "execution_count": null,
   "id": "34c109e3",
   "metadata": {},
   "outputs": [],
   "source": []
  }
 ],
 "metadata": {
  "kernelspec": {
   "display_name": "Python 3 (ipykernel)",
   "language": "python",
   "name": "python3"
  },
  "language_info": {
   "codemirror_mode": {
    "name": "ipython",
    "version": 3
   },
   "file_extension": ".py",
   "mimetype": "text/x-python",
   "name": "python",
   "nbconvert_exporter": "python",
   "pygments_lexer": "ipython3",
   "version": "3.9.12"
  }
 },
 "nbformat": 4,
 "nbformat_minor": 5
}
