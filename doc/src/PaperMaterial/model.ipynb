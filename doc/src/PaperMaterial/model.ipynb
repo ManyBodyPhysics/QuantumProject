{
 "cells": [
  {
   "cell_type": "markdown",
   "id": "bf14a197",
   "metadata": {},
   "source": [
    "<!-- HTML file automatically generated from DocOnce source (https://github.com/doconce/doconce/)\n",
    "doconce format html model.do.txt  -->"
   ]
  },
  {
   "cell_type": "markdown",
   "id": "b84f9a00",
   "metadata": {},
   "source": [
    "## Level crossing and entanglement in a simple  solvable model\n",
    "\n",
    "In order to study the importance of intruder states, we let\n",
    "our hamiltonian depend linearly on a strength parameter $\\lambda$"
   ]
  },
  {
   "cell_type": "markdown",
   "id": "2cfca661",
   "metadata": {},
   "source": [
    "$$\n",
    "H=H_0+\\lambda H_1,\n",
    "$$"
   ]
  },
  {
   "cell_type": "markdown",
   "id": "3b4afde2",
   "metadata": {},
   "source": [
    "with $\\lambda \\in [0,1]$, where the limits $\\lambda=0$ and $\\lambda=1$ represent the \n",
    "non-interacting (or unperturbed) and fully interacting system, respectively.\n",
    "The model is an eigenvalue\n",
    "problem with only two available states, which we label\n",
    "$P$ and $Q$. Below we will let \n",
    "state $P$ represent the model-space\n",
    "eigenvalue whereas state $Q$ represents \n",
    "the eigenvalue of the excluded space.\n",
    "The unperturbed solutions to this problem are"
   ]
  },
  {
   "cell_type": "markdown",
   "id": "ec320a08",
   "metadata": {},
   "source": [
    "<!-- Equation labels as ordinary links -->\n",
    "<div id=\"_auto1\"></div>\n",
    "\n",
    "$$\n",
    "\\begin{equation}\n",
    "       H_0\\Phi_P =\\epsilon_P\\Phi_P\n",
    "\\label{_auto1} \\tag{1}\n",
    "\\end{equation}\n",
    "$$"
   ]
  },
  {
   "cell_type": "markdown",
   "id": "c0720571",
   "metadata": {},
   "source": [
    "and"
   ]
  },
  {
   "cell_type": "markdown",
   "id": "3dddc547",
   "metadata": {},
   "source": [
    "<!-- Equation labels as ordinary links -->\n",
    "<div id=\"_auto2\"></div>\n",
    "\n",
    "$$\n",
    "\\begin{equation}\n",
    "       H_0\\Phi_Q =\\epsilon_Q\\Phi_Q,\n",
    "\\label{_auto2} \\tag{2}\n",
    "\\end{equation}\n",
    "$$"
   ]
  },
  {
   "cell_type": "markdown",
   "id": "eeac963c",
   "metadata": {},
   "source": [
    "with $\\epsilon_P < \\epsilon_Q$. We label the off-diagonal\n",
    "matrix elements $X$, while $X_P=\\bra{\\Phi_P}H_1\\ket{\\Phi_P}$ and\n",
    "$X_Q=\\bra{\\Phi_Q}H_1\\ket{\\Phi_Q}$.\n",
    "The exact eigenvalues problem"
   ]
  },
  {
   "cell_type": "markdown",
   "id": "ba110024",
   "metadata": {},
   "source": [
    "<!-- Equation labels as ordinary links -->\n",
    "<div id=\"_auto3\"></div>\n",
    "\n",
    "$$\n",
    "\\begin{equation}\n",
    "\\left(\\begin{array}{cc}\\epsilon_P+zX_P &zX \\\\\n",
    "zX &\\epsilon_Q+zX_Q \\end{array}\\right)\n",
    "\\label{_auto3} \\tag{3}\n",
    "\\end{equation}\n",
    "$$"
   ]
  },
  {
   "cell_type": "markdown",
   "id": "69d78a69",
   "metadata": {},
   "source": [
    "yields"
   ]
  },
  {
   "cell_type": "markdown",
   "id": "707e56f7",
   "metadata": {},
   "source": [
    "<!-- Equation labels as ordinary links -->\n",
    "<div id=\"eq:exact\"></div>\n",
    "\n",
    "$$\n",
    "\\begin{eqnarray}\n",
    "\\label{eq:exact} \\tag{4}\n",
    "     E(z)=&\\frac{1}{2}\\left\\{\\epsilon_P +\\epsilon_Q +zX_P\n",
    "     +zX_Q \\pm \\left(\n",
    "     \\epsilon_Q -\\epsilon_P +zX_Q-zX_P\\right) \\right. \\\\ \\nonumber\n",
    "     & \\left. \\times\\sqrt{1+\\frac{4z^2X^2}{\\left(\n",
    "     \\epsilon_Q -\\epsilon_P +zX_Q-zX_P\\right)^2}}\n",
    "     \\right\\}.\n",
    "\\end{eqnarray}\n",
    "$$"
   ]
  },
  {
   "cell_type": "markdown",
   "id": "124812ff",
   "metadata": {},
   "source": [
    "An RS expansion for the lowest\n",
    "eigenstate (defining states $P$ and $Q$ as the model and excluded\n",
    "spaces, respectively) can be obtained by expanding the lowest\n",
    "eigenvalue as"
   ]
  },
  {
   "cell_type": "markdown",
   "id": "50ae5aac",
   "metadata": {},
   "source": [
    "<!-- Equation labels as ordinary links -->\n",
    "<div id=\"eq:modela\"></div>\n",
    "\n",
    "$$\n",
    "\\begin{equation}\n",
    "      E=\\epsilon_P +zX_P+\\frac{z^2X^2}{\\epsilon_P -\\epsilon_Q}+\n",
    "      \\frac{z^3X^2(X_Q-X_P)}{(\\epsilon_P -\\epsilon_Q)^2}+\n",
    "      \\frac{z^4X^2(X_Q-X_P)^2}{(\\epsilon_P -\\epsilon_Q)^3}\n",
    "      -\\frac{z^4X^4}{(\\epsilon_P -\\epsilon_Q)^3}+\\dots,\n",
    "      \\label{eq:modela} \\tag{5}\n",
    "\\end{equation}\n",
    "$$"
   ]
  },
  {
   "cell_type": "markdown",
   "id": "edfafeea",
   "metadata": {},
   "source": [
    "which can be viewed as an effective interaction for state $P$ in which\n",
    "state $Q$ is taken into account to successive orders of the perturbation.\n",
    "In this work we choose the parameters $\\epsilon_P=0$, $\\epsilon_Q=4$,\n",
    "$X_P=-X_Q=3$ and $X=0.2$. The exact solutions\n",
    "given by eq.\\ ([4](#eq:exact))\n",
    "are shown in fig.\\ 1 as functions of the\n",
    "strength parameter $\\lambda$. Pertinent to our choice of\n",
    "parameters, is that at $\\lambda\\geq 2/3$,  the lowest eigenstate is\n",
    "dominated by $\\Phi_Q$ while the upper is $\\Phi_P$. At $\\lambda=1$ the\n",
    "$\\Phi_P$ mixing of the lowest eigenvalue\n",
    "is $1\\%$ while for $z\\leq 2/3$\n",
    "we have a $\\Phi_P$ component of more than $90\\%$.\n",
    "The character of the eigenvectors has therefore been interchanged\n",
    "when passing $z=2/3$. The value of the parameter $X$ represents the\n",
    "strength of the coupling between the model space and the excluded space.\n",
    "Thus, this simple Hamiltonian can be used to find the eigenpairs rather easily. The following code computes and plots the eigenvalues."
   ]
  },
  {
   "cell_type": "code",
   "execution_count": 53,
   "id": "2a6ddf03",
   "metadata": {},
   "outputs": [
    {
     "name": "stdout",
     "output_type": "stream",
     "text": [
      "nan\n",
      "6.127861781283148e-06\n",
      "2.3064682021875487e-05\n",
      "5.04937482583988e-05\n",
      "8.863276510746756e-05\n",
      "0.00013790877539387547\n",
      "0.0001988863982112618\n",
      "0.00027224243240725514\n",
      "0.00035875678582025365\n",
      "0.0004593110316397489\n",
      "0.0005748913341484867\n",
      "0.0007065943536798613\n",
      "0.0008556355148342064\n",
      "0.0010233593935223102\n",
      "0.0012112521825733342\n",
      "0.0014209563249952019\n",
      "0.0016542874995060684\n",
      "0.001913254224764206\n",
      "0.002200080427981421\n",
      "0.0025172314075521778\n",
      "0.0028674437133160134\n",
      "0.0032537595771753164\n",
      "0.0036795666560297063\n",
      "0.004148644004386238\n",
      "0.00466521538241542\n",
      "0.005234011235478202\n",
      "0.00586034096417065\n",
      "0.006550177453604913\n",
      "0.007310256264970847\n",
      "0.008148192434475695\n",
      "0.009072618504727554\n",
      "0.010093348270898108\n",
      "0.011221571810527818\n",
      "0.012470088750358557\n",
      "0.013853588497713381\n",
      "0.015388988450658897\n",
      "0.01709584416618825\n",
      "0.018996849334290394\n",
      "0.021118448486099443\n",
      "0.02349159208028938\n",
      "0.026152672551454197\n",
      "0.029144691887402624\n",
      "0.0325187274810896\n",
      "0.0363357850049994\n",
      "0.04066915719398575\n",
      "0.045607448997358274\n",
      "0.05125848729489017\n",
      "0.05775441401962927\n",
      "0.06525837470756737\n",
      "0.07397337370583491\n",
      "0.0841540909570139\n",
      "0.0961227671519273\n",
      "0.11029069057855008\n",
      "0.12718737811881348\n",
      "0.1475002081516179\n",
      "0.172127862783817\n",
      "0.20225088275553527\n",
      "0.2394202233212657\n",
      "0.2856553311159721\n",
      "0.3435152668151238\n",
      "0.4160322658891072\n",
      "0.506221611549531\n",
      "0.6155397168913761\n",
      "0.740297691246542\n",
      "0.8658402361985715\n",
      "0.9632136289581805\n",
      "0.9999999999999999\n",
      "0.9652907046266077\n",
      "0.8790546262157375\n",
      "0.772508097480362\n",
      "0.6681298856032185\n",
      "0.5760528624848681\n",
      "0.498604270372641\n",
      "0.4346906502425747\n",
      "0.38218606858284104\n",
      "0.33893410041684224\n",
      "0.3030776938757244\n",
      "0.2731161191375043\n",
      "0.24786808191423815\n",
      "0.2264122997535455\n",
      "0.2080307695306497\n",
      "0.1921617908650245\n",
      "0.17836323789089248\n",
      "0.16628455519685126\n",
      "0.15564561699137036\n",
      "0.1462208001837767\n",
      "0.1378269578934853\n",
      "0.13031429498213137\n",
      "0.12355940288512135\n",
      "0.11745990625554947\n",
      "0.11193031881006471\n",
      "0.10689881185693903\n",
      "0.10230467628492124\n",
      "0.09809631509432845\n",
      "0.09422964466573833\n",
      "0.09066681311165693\n",
      "0.08737516628400738\n",
      "0.08432640849392604\n",
      "0.08149591730125454\n",
      "0.07886218096956155\n"
     ]
    },
    {
     "name": "stderr",
     "output_type": "stream",
     "text": [
      "/var/folders/td/3yk470mj5p931p9dtkk0y6jw0000gn/T/ipykernel_62840/2848473742.py:28: RuntimeWarning: divide by zero encountered in log2\n",
      "  print(np.sum(-EigVectors**2*np.log2(EigVectors**2))*0.5)\n",
      "/var/folders/td/3yk470mj5p931p9dtkk0y6jw0000gn/T/ipykernel_62840/2848473742.py:28: RuntimeWarning: invalid value encountered in multiply\n",
      "  print(np.sum(-EigVectors**2*np.log2(EigVectors**2))*0.5)\n"
     ]
    },
    {
     "data": {
      "image/png": "[encoded data removed]",
      "text/plain": [
       "<Figure size 432x288 with 1 Axes>"
      ]
     },
     "metadata": {
      "needs_background": "light"
     },
     "output_type": "display_data"
    }
   ],
   "source": [
    "%matplotlib inline\n",
    "\n",
    "from  matplotlib import pyplot as plt\n",
    "import numpy as np\n",
    "dim = 2\n",
    "#Setting up a tridiagonal matrix and finding eigenvectors and eigenvalues\n",
    "Hamiltonian = np.zeros((dim,dim))\n",
    "#number of lambda values\n",
    "n = 100\n",
    "lmbd = np.linspace(0.,1.0,n)\n",
    "e0 = 0.0\n",
    "e1 = 4.0\n",
    "X = 0.20\n",
    "Xp = 3.0\n",
    "Eigenvalue = np.zeros((dim,n))\n",
    "for i in range(n): \n",
    "    Hamiltonian[0,0] = lmbd[i]*Xp+e0\n",
    "    Hamiltonian[0,1] = lmbd[i]*X\n",
    "    Hamiltonian[1,0] = Hamiltonian[0,1]\n",
    "    Hamiltonian[1,1] = e1+lmbd[i]*(-Xp)\n",
    "    # diagonalize and obtain eigenvalues, not necessarily sorted\n",
    "    EigValues, EigVectors = np.linalg.eig(Hamiltonian)\n",
    "    # sort eigenvectors and eigenvalues\n",
    "    permute = EigValues.argsort()\n",
    "    EigValues = EigValues[permute]\n",
    "    EigVectors = EigVectors[:,permute]\n",
    "    EigVectors = np.linalg.inv(EigVectors)\n",
    "    print(np.sum(-EigVectors**2*np.log2(EigVectors**2))*0.5)\n",
    "    Eigenvalue[0,i] = EigValues[0]\n",
    "    Eigenvalue[1,i] = EigValues[1]\n",
    "plt.plot(lmbd, Eigenvalue[0,:] ,'b-',lmbd, Eigenvalue[1,:],'g-',)\n",
    "plt.xlabel('$\\lambda$')\n",
    "plt.ylabel('Eigenvalues')\n",
    "plt.show()"
   ]
  },
  {
   "cell_type": "code",
   "execution_count": null,
   "id": "f4502046",
   "metadata": {},
   "outputs": [],
   "source": []
  }
 ],
 "metadata": {
  "kernelspec": {
   "display_name": "Python 3 (ipykernel)",
   "language": "python",
   "name": "python3"
  },
  "language_info": {
   "codemirror_mode": {
    "name": "ipython",
    "version": 3
   },
   "file_extension": ".py",
   "mimetype": "text/x-python",
   "name": "python",
   "nbconvert_exporter": "python",
   "pygments_lexer": "ipython3",
   "version": "3.9.12"
  }
 },
 "nbformat": 4,
 "nbformat_minor": 5
}
